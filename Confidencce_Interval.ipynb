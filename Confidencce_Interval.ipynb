{
  "nbformat": 4,
  "nbformat_minor": 0,
  "metadata": {
    "colab": {
      "provenance": []
    },
    "kernelspec": {
      "name": "python3",
      "display_name": "Python 3"
    },
    "language_info": {
      "name": "python"
    }
  },
  "cells": [
    {
      "cell_type": "code",
      "execution_count": 1,
      "metadata": {
        "id": "SZ7jMF5HZU_i"
      },
      "outputs": [],
      "source": [
        "import numpy as np\n",
        "from scipy import stats\n"
      ]
    },
    {
      "cell_type": "code",
      "source": [
        "# Durability of print-heads (in millions of characters)\n",
        "data = np.array([1.13, 1.55, 1.43, 0.92, 1.25, 1.36, 1.32, 0.85, 1.07, 1.48, 1.20, 1.33, 1.18, 1.22, 1.29])\n",
        "\n",
        "# Sample size\n",
        "n = len(data)\n"
      ],
      "metadata": {
        "id": "a4Z8-22PZZ3x"
      },
      "execution_count": 2,
      "outputs": []
    },
    {
      "cell_type": "code",
      "source": [
        "# Sample mean\n",
        "sample_mean = np.mean(data)\n",
        "\n",
        "# Sample standard deviation\n",
        "sample_std = np.std(data, ddof=1)\n",
        "\n",
        "sample_mean, sample_std\n"
      ],
      "metadata": {
        "colab": {
          "base_uri": "https://localhost:8080/"
        },
        "id": "7VXwFf0jZcMm",
        "outputId": "3f164789-7245-4dc4-fee5-0e7964a06685"
      },
      "execution_count": 3,
      "outputs": [
        {
          "output_type": "execute_result",
          "data": {
            "text/plain": [
              "(1.2386666666666666, 0.19316412956959936)"
            ]
          },
          "metadata": {},
          "execution_count": 3
        }
      ]
    },
    {
      "cell_type": "code",
      "source": [
        "# Degrees of freedom\n",
        "df = n - 1\n",
        "\n",
        "# 99% confidence level\n",
        "confidence_level = 0.99\n",
        "\n",
        "# t-critical value for 99% confidence interval\n",
        "t_critical = stats.t.ppf((1 + confidence_level) / 2, df)\n",
        "\n",
        "# Margin of Error using sample standard deviation\n",
        "margin_of_error_a = t_critical * (sample_std / np.sqrt(n))\n",
        "\n",
        "# 99% Confidence Interval using sample standard deviation\n",
        "confidence_interval_a = (sample_mean - margin_of_error_a, sample_mean + margin_of_error_a)\n",
        "\n",
        "confidence_interval_a\n"
      ],
      "metadata": {
        "colab": {
          "base_uri": "https://localhost:8080/"
        },
        "id": "l-MPjYxsZfpl",
        "outputId": "dc992df1-08b6-47ca-a5cb-f90c125168c9"
      },
      "execution_count": 4,
      "outputs": [
        {
          "output_type": "execute_result",
          "data": {
            "text/plain": [
              "(1.0901973384384906, 1.3871359948948425)"
            ]
          },
          "metadata": {},
          "execution_count": 4
        }
      ]
    },
    {
      "cell_type": "code",
      "source": [
        "# Known population standard deviation\n",
        "population_std = 0.2\n",
        "\n",
        "# z-critical value for 99% confidence interval\n",
        "z_critical = stats.norm.ppf((1 + confidence_level) / 2)\n",
        "\n",
        "# Margin of Error using population standard deviation\n",
        "margin_of_error_b = z_critical * (population_std / np.sqrt(n))\n",
        "\n",
        "# 99% Confidence Interval using population standard deviation\n",
        "confidence_interval_b = (sample_mean - margin_of_error_b, sample_mean + margin_of_error_b)\n",
        "\n",
        "confidence_interval_b\n"
      ],
      "metadata": {
        "colab": {
          "base_uri": "https://localhost:8080/"
        },
        "id": "A_rUhJnfZjYm",
        "outputId": "1e3b4036-3f2f-4453-8bc4-1da7c72994d9"
      },
      "execution_count": 5,
      "outputs": [
        {
          "output_type": "execute_result",
          "data": {
            "text/plain": [
              "(1.1056514133957607, 1.3716819199375725)"
            ]
          },
          "metadata": {},
          "execution_count": 5
        }
      ]
    },
    {
      "cell_type": "code",
      "source": [
        "print(f\"Sample Mean: {sample_mean:.2f}\")\n",
        "print(f\"Sample Standard Deviation: {sample_std:.2f}\")\n",
        "print(f\"99% Confidence Interval using Sample Std Dev: {confidence_interval_a}\")\n",
        "print(f\"99% Confidence Interval using Population Std Dev: {confidence_interval_b}\")\n"
      ],
      "metadata": {
        "colab": {
          "base_uri": "https://localhost:8080/"
        },
        "id": "GnTuJji0Zn_0",
        "outputId": "7007c8d4-6c03-4679-93a0-1cfa5fccc398"
      },
      "execution_count": 6,
      "outputs": [
        {
          "output_type": "stream",
          "name": "stdout",
          "text": [
            "Sample Mean: 1.24\n",
            "Sample Standard Deviation: 0.19\n",
            "99% Confidence Interval using Sample Std Dev: (1.0901973384384906, 1.3871359948948425)\n",
            "99% Confidence Interval using Population Std Dev: (1.1056514133957607, 1.3716819199375725)\n"
          ]
        }
      ]
    }
  ]
}