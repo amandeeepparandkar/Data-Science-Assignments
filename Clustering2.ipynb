{
  "nbformat": 4,
  "nbformat_minor": 0,
  "metadata": {
    "colab": {
      "provenance": []
    },
    "kernelspec": {
      "name": "python3",
      "display_name": "Python 3"
    },
    "language_info": {
      "name": "python"
    }
  },
  "cells": [
    {
      "cell_type": "code",
      "execution_count": 8,
      "metadata": {
        "id": "2OAFyBgDYxWn"
      },
      "outputs": [],
      "source": [
        "import pandas as pd\n",
        "\n",
        "\n",
        "\n",
        "# Load the dataset\n",
        "df = pd.read_csv('/content/anime.csv')  # Replace 'your_file_name.csv' with the name of your file\n"
      ]
    },
    {
      "cell_type": "code",
      "source": [
        "# Check for missing values\n",
        "print(df.isnull().sum())\n",
        "\n",
        "# Drop or fill missing values as appropriate\n",
        "df = df.dropna()  # or df.fillna(method='ffill', inplace=True)\n",
        "\n",
        "# Explore the dataset\n",
        "print(df.head())\n",
        "print(df.info())\n"
      ],
      "metadata": {
        "colab": {
          "base_uri": "https://localhost:8080/"
        },
        "id": "ag-k0U2GZnur",
        "outputId": "ab44d3b6-c412-4731-8ccc-ead57d763c81"
      },
      "execution_count": 9,
      "outputs": [
        {
          "output_type": "stream",
          "name": "stdout",
          "text": [
            "anime_id      0\n",
            "name          0\n",
            "genre        62\n",
            "type         25\n",
            "episodes      0\n",
            "rating      230\n",
            "members       0\n",
            "dtype: int64\n",
            "   anime_id                              name  \\\n",
            "0     32281                    Kimi no Na wa.   \n",
            "1      5114  Fullmetal Alchemist: Brotherhood   \n",
            "2     28977                          Gintama°   \n",
            "3      9253                       Steins;Gate   \n",
            "4      9969                     Gintama&#039;   \n",
            "\n",
            "                                               genre   type episodes  rating  \\\n",
            "0               Drama, Romance, School, Supernatural  Movie        1    9.37   \n",
            "1  Action, Adventure, Drama, Fantasy, Magic, Mili...     TV       64    9.26   \n",
            "2  Action, Comedy, Historical, Parody, Samurai, S...     TV       51    9.25   \n",
            "3                                   Sci-Fi, Thriller     TV       24    9.17   \n",
            "4  Action, Comedy, Historical, Parody, Samurai, S...     TV       51    9.16   \n",
            "\n",
            "   members  \n",
            "0   200630  \n",
            "1   793665  \n",
            "2   114262  \n",
            "3   673572  \n",
            "4   151266  \n",
            "<class 'pandas.core.frame.DataFrame'>\n",
            "Index: 12017 entries, 0 to 12293\n",
            "Data columns (total 7 columns):\n",
            " #   Column    Non-Null Count  Dtype  \n",
            "---  ------    --------------  -----  \n",
            " 0   anime_id  12017 non-null  int64  \n",
            " 1   name      12017 non-null  object \n",
            " 2   genre     12017 non-null  object \n",
            " 3   type      12017 non-null  object \n",
            " 4   episodes  12017 non-null  object \n",
            " 5   rating    12017 non-null  float64\n",
            " 6   members   12017 non-null  int64  \n",
            "dtypes: float64(1), int64(2), object(4)\n",
            "memory usage: 751.1+ KB\n",
            "None\n"
          ]
        }
      ]
    },
    {
      "cell_type": "code",
      "source": [
        "# Check for missing values\n",
        "print(df.isnull().sum())\n",
        "\n",
        "# Drop or fill missing values as appropriate\n",
        "df = df.dropna()  # or df.fillna(method='ffill', inplace=True)\n",
        "\n",
        "# Explore the dataset\n",
        "print(df.head())\n",
        "print(df.info())\n"
      ],
      "metadata": {
        "colab": {
          "base_uri": "https://localhost:8080/"
        },
        "id": "3_1m_Pppb9Dt",
        "outputId": "cf030e4f-ee24-481c-d28d-773d8db46937"
      },
      "execution_count": 11,
      "outputs": [
        {
          "output_type": "stream",
          "name": "stdout",
          "text": [
            "anime_id    0\n",
            "name        0\n",
            "genre       0\n",
            "type        0\n",
            "episodes    0\n",
            "rating      0\n",
            "members     0\n",
            "dtype: int64\n",
            "   anime_id                              name  genre   type episodes  rating  \\\n",
            "0     32281                    Kimi no Na wa.   2660  Movie        1    9.37   \n",
            "1      5114  Fullmetal Alchemist: Brotherhood    159     TV       64    9.26   \n",
            "2     28977                          Gintama°    527     TV       51    9.25   \n",
            "3      9253                       Steins;Gate   3205     TV       24    9.17   \n",
            "4      9969                     Gintama&#039;    527     TV       51    9.16   \n",
            "\n",
            "   members  \n",
            "0   200630  \n",
            "1   793665  \n",
            "2   114262  \n",
            "3   673572  \n",
            "4   151266  \n",
            "<class 'pandas.core.frame.DataFrame'>\n",
            "Index: 12017 entries, 0 to 12293\n",
            "Data columns (total 7 columns):\n",
            " #   Column    Non-Null Count  Dtype  \n",
            "---  ------    --------------  -----  \n",
            " 0   anime_id  12017 non-null  int64  \n",
            " 1   name      12017 non-null  object \n",
            " 2   genre     12017 non-null  int64  \n",
            " 3   type      12017 non-null  object \n",
            " 4   episodes  12017 non-null  object \n",
            " 5   rating    12017 non-null  float64\n",
            " 6   members   12017 non-null  int64  \n",
            "dtypes: float64(1), int64(3), object(3)\n",
            "memory usage: 751.1+ KB\n",
            "None\n"
          ]
        }
      ]
    },
    {
      "cell_type": "code",
      "source": [
        "from sklearn.preprocessing import OneHotEncoder\n",
        "\n",
        "# One-hot encode the genre column\n",
        "encoder = OneHotEncoder(sparse=False)\n",
        "genre_encoded = encoder.fit_transform(df[['genre']])\n",
        "\n",
        "# Create a DataFrame with one-hot encoded features\n",
        "genre_df = pd.DataFrame(genre_encoded, columns=encoder.get_feature_names_out(['genre']))\n",
        "\n",
        "# Combine with the original DataFrame\n",
        "df_encoded = pd.concat([df[['anime_id', 'name']], genre_df], axis=1)\n"
      ],
      "metadata": {
        "colab": {
          "base_uri": "https://localhost:8080/"
        },
        "id": "vu4yNpI4cd2a",
        "outputId": "25dce964-0660-4d7e-a8dc-5a35862a16dc"
      },
      "execution_count": 12,
      "outputs": [
        {
          "output_type": "stream",
          "name": "stderr",
          "text": [
            "/usr/local/lib/python3.10/dist-packages/sklearn/preprocessing/_encoders.py:975: FutureWarning: `sparse` was renamed to `sparse_output` in version 1.2 and will be removed in 1.4. `sparse_output` is ignored unless you leave `sparse` to its default value.\n",
            "  warnings.warn(\n"
          ]
        }
      ]
    },
    {
      "cell_type": "code",
      "source": [
        "from sklearn.metrics.pairwise import cosine_similarity\n",
        "\n",
        "def recommend_anime(target_anime_name, df, genre_df, top_n=5):\n",
        "    # Extract features\n",
        "    features = genre_df.values\n",
        "\n",
        "    # Compute cosine similarity\n",
        "    similarity_matrix = cosine_similarity(features)\n",
        "\n",
        "    # Get index of target anime\n",
        "    target_index = df[df['name'] == target_anime_name].index[0]\n",
        "\n",
        "    # Get similarity scores for the target anime\n",
        "    similarity_scores = list(enumerate(similarity_matrix[target_index]))\n",
        "\n",
        "    # Sort by similarity score\n",
        "    similarity_scores = sorted(similarity_scores, key=lambda x: x[1], reverse=True)\n",
        "\n",
        "    # Get top N similar anime\n",
        "    top_similar_indices = [i[0] for i in similarity_scores[1:top_n+1]]  # Exclude the first one (itself)\n",
        "\n",
        "    return df.iloc[top_similar_indices]\n",
        "\n",
        "# Example usage\n",
        "recommended_anime = recommend_anime('Naruto', df, genre_df)\n",
        "print(recommended_anime[['name']])\n"
      ],
      "metadata": {
        "colab": {
          "base_uri": "https://localhost:8080/"
        },
        "id": "d1WdeJKechYU",
        "outputId": "24466c17-0d79-4d6b-83bb-8ec6ca88dff6"
      },
      "execution_count": 13,
      "outputs": [
        {
          "output_type": "stream",
          "name": "stdout",
          "text": [
            "                                                   name\n",
            "615                                  Naruto: Shippuuden\n",
            "841                                              Naruto\n",
            "1103  Boruto: Naruto the Movie - Naruto ga Hokage ni...\n",
            "1343                                        Naruto x UT\n",
            "1472        Naruto: Shippuuden Movie 4 - The Lost Tower\n"
          ]
        }
      ]
    }
  ]
}