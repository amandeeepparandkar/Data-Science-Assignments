{
  "nbformat": 4,
  "nbformat_minor": 0,
  "metadata": {
    "colab": {
      "provenance": []
    },
    "kernelspec": {
      "name": "python3",
      "display_name": "Python 3"
    },
    "language_info": {
      "name": "python"
    }
  },
  "cells": [
    {
      "cell_type": "code",
      "execution_count": 1,
      "metadata": {
        "colab": {
          "base_uri": "https://localhost:8080/"
        },
        "id": "C9VTY_wjf9T7",
        "outputId": "de440a9f-6e16-47d2-f930-2362a9692c95"
      },
      "outputs": [
        {
          "output_type": "stream",
          "name": "stdout",
          "text": [
            "Chi-Square Statistic: 5.6382\n",
            "Critical Value: 9.4877\n",
            "Degrees of Freedom: 4\n",
            "Fail to reject the null hypothesis: There is no significant association between device type and customer satisfaction.\n"
          ]
        }
      ],
      "source": [
        "\n",
        "import numpy as np\n",
        "import scipy.stats as stats\n",
        "\n",
        "# Define the observed frequencies from the contingency table\n",
        "observed = np.array([\n",
        "    [50, 70],    # Very Satisfied\n",
        "    [80, 100],   # Satisfied\n",
        "    [60, 90],    # Neutral\n",
        "    [30, 50],    # Unsatisfied\n",
        "    [20, 50]     # Very Unsatisfied\n",
        "])\n",
        "\n",
        "# Calculate the totals for rows, columns, and grand total\n",
        "row_totals = observed.sum(axis=1)\n",
        "col_totals = observed.sum(axis=0)\n",
        "grand_total = observed.sum()\n",
        "\n",
        "# Calculate the expected frequencies based on independence\n",
        "expected = np.outer(row_totals, col_totals) / grand_total\n",
        "\n",
        "# Compute the Chi-Square statistic\n",
        "chi_square_stat = ((observed - expected) ** 2 / expected).sum()\n",
        "\n",
        "# Determine degrees of freedom\n",
        "df = (len(row_totals) - 1) * (len(col_totals) - 1)\n",
        "\n",
        "# Determine the critical value from the Chi-Square distribution\n",
        "alpha = 0.05\n",
        "critical_value = stats.chi2.ppf(1 - alpha, df)\n",
        "\n",
        "# Print results\n",
        "print(f\"Chi-Square Statistic: {chi_square_stat:.4f}\")\n",
        "print(f\"Critical Value: {critical_value:.4f}\")\n",
        "print(f\"Degrees of Freedom: {df}\")\n",
        "\n",
        "# Make a decision based on the comparison\n",
        "if chi_square_stat > critical_value:\n",
        "    print(\"Reject the null hypothesis: There is a significant association between device type and customer satisfaction.\")\n",
        "else:\n",
        "    print(\"Fail to reject the null hypothesis: There is no significant association between device type and customer satisfaction.\")\n"
      ]
    },
    {
      "cell_type": "code",
      "source": [
        "# Import necessary libraries\n",
        "import scipy.stats as stats\n",
        "\n",
        "# Given data\n",
        "sample_mean_cost = 3050          # Sample mean weekly cost\n",
        "n = 25                           # Sample size\n",
        "units_produced_mean = 600         # Mean number of units produced\n",
        "std_dev_units = 25                # Standard deviation of units produced\n",
        "\n",
        "# Theoretical cost model parameters\n",
        "fixed_cost = 1000                 # Fixed cost\n",
        "variable_cost_per_unit = 5        # Variable cost per unit\n",
        "\n",
        "# Calculate the theoretical mean weekly cost\n",
        "theoretical_mean_cost = fixed_cost + variable_cost_per_unit * units_produced_mean\n",
        "\n",
        "# Calculate the standard deviation of the weekly cost\n",
        "std_dev_cost = variable_cost_per_unit * std_dev_units\n",
        "\n",
        "# Calculate the test statistic (z-score)\n",
        "z_score = (sample_mean_cost - theoretical_mean_cost) / (std_dev_cost / (n ** 0.5))\n",
        "\n",
        "# Determine the critical value from the standard normal distribution\n",
        "alpha = 0.05\n",
        "critical_value = stats.norm.ppf(1 - alpha)\n",
        "\n",
        "# Print results\n",
        "print(f\"Theoretical Mean Weekly Cost: ${theoretical_mean_cost:.2f}\")\n",
        "print(f\"Standard Deviation of Weekly Cost: ${std_dev_cost:.2f}\")\n",
        "print(f\"Test Statistic (Z-Score): {z_score:.4f}\")\n",
        "print(f\"Critical Value: {critical_value:.4f}\")\n",
        "\n",
        "# Make a decision\n",
        "if z_score > critical_value:\n",
        "    print(\"Reject the null hypothesis: There is strong evidence to support the restaurant owners' claim that the weekly operating costs are higher than the model suggests.\")\n",
        "else:\n",
        "    print(\"Fail to reject the null hypothesis: There is not enough evidence to support the restaurant owners' claim that the weekly operating costs are higher than the model suggests.\")\n"
      ],
      "metadata": {
        "colab": {
          "base_uri": "https://localhost:8080/"
        },
        "id": "qVkF0PytgJ0G",
        "outputId": "d1703b2d-7c51-4f1d-8da5-d0ebf28c3d68"
      },
      "execution_count": 2,
      "outputs": [
        {
          "output_type": "stream",
          "name": "stdout",
          "text": [
            "Theoretical Mean Weekly Cost: $4000.00\n",
            "Standard Deviation of Weekly Cost: $125.00\n",
            "Test Statistic (Z-Score): -38.0000\n",
            "Critical Value: 1.6449\n",
            "Fail to reject the null hypothesis: There is not enough evidence to support the restaurant owners' claim that the weekly operating costs are higher than the model suggests.\n"
          ]
        }
      ]
    }
  ]
}