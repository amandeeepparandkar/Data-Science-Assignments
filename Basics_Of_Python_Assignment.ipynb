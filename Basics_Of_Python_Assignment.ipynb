{
  "nbformat": 4,
  "nbformat_minor": 0,
  "metadata": {
    "colab": {
      "provenance": []
    },
    "kernelspec": {
      "name": "python3",
      "display_name": "Python 3"
    },
    "language_info": {
      "name": "python"
    }
  },
  "cells": [
    {
      "cell_type": "code",
      "execution_count": 1,
      "metadata": {
        "colab": {
          "base_uri": "https://localhost:8080/"
        },
        "id": "-YpgL5mXcnAb",
        "outputId": "4ee22d98-fbca-43a1-9ac6-534d10745c61"
      },
      "outputs": [
        {
          "output_type": "stream",
          "name": "stdout",
          "text": [
            "Is 29 a prime number? True\n"
          ]
        }
      ],
      "source": [
        "# Exercise 1: Prime Numbers\n",
        "\n",
        "def is_prime(n):\n",
        "    \"\"\"Check if a number is prime.\"\"\"\n",
        "    if n <= 1:\n",
        "        return False\n",
        "    if n == 2:\n",
        "        return True\n",
        "    if n % 2 == 0:\n",
        "        return False\n",
        "    for i in range(3, int(n**0.5) + 1, 2):\n",
        "        if n % i == 0:\n",
        "            return False\n",
        "    return True\n",
        "\n",
        "# Test the function\n",
        "num = 29\n",
        "print(f\"Is {num} a prime number? {is_prime(num)}\")\n"
      ]
    },
    {
      "cell_type": "code",
      "source": [
        "# Exercise 2: Product of Random Numbers\n",
        "\n",
        "import random\n",
        "\n",
        "def random_product_game():\n",
        "    \"\"\"Generate two random numbers and ask the user to calculate their product.\"\"\"\n",
        "    num1 = random.randint(1, 100)\n",
        "    num2 = random.randint(1, 100)\n",
        "    correct_answer = num1 * num2\n",
        "\n",
        "    print(f\"Calculate the product of {num1} and {num2}:\")\n",
        "    user_answer = int(input())\n",
        "\n",
        "    if user_answer == correct_answer:\n",
        "        print(\"Correct!\")\n",
        "    else:\n",
        "        print(f\"Incorrect. The correct answer is {correct_answer}.\")\n",
        "\n",
        "# Run the game\n",
        "random_product_game()\n"
      ],
      "metadata": {
        "colab": {
          "base_uri": "https://localhost:8080/"
        },
        "id": "alwKmvQ4c3tp",
        "outputId": "d046d8d7-1f39-49f1-d34a-d4b92f737d73"
      },
      "execution_count": 3,
      "outputs": [
        {
          "output_type": "stream",
          "name": "stdout",
          "text": [
            "Calculate the product of 83 and 27:\n",
            "2241\n",
            "Correct!\n"
          ]
        }
      ]
    },
    {
      "cell_type": "code",
      "source": [
        "# Exercise 3: Squares of Even/Odd Numbers\n",
        "\n",
        "def squares_of_numbers(start=100, end=200, even=True):\n",
        "    \"\"\"Print the squares of all even or odd numbers within a given range.\"\"\"\n",
        "    if even:\n",
        "        print(\"Squares of even numbers:\")\n",
        "        for num in range(start, end + 1):\n",
        "            if num % 2 == 0:\n",
        "                print(f\"{num}^2 = {num ** 2}\")\n",
        "    else:\n",
        "        print(\"Squares of odd numbers:\")\n",
        "        for num in range(start, end + 1):\n",
        "            if num % 2 != 0:\n",
        "                print(f\"{num}^2 = {num ** 2}\")\n",
        "\n",
        "# Print squares of even numbers between 100 and 200\n",
        "squares_of_numbers(even=True)\n",
        "\n",
        "# Uncomment the following line to print squares of odd numbers instead\n",
        "# squares_of_numbers(even=False)\n"
      ],
      "metadata": {
        "colab": {
          "base_uri": "https://localhost:8080/"
        },
        "id": "95rJubkAdTb-",
        "outputId": "54d7ba45-93c7-4d4b-fa3c-ddf926f93092"
      },
      "execution_count": 4,
      "outputs": [
        {
          "output_type": "stream",
          "name": "stdout",
          "text": [
            "Squares of even numbers:\n",
            "100^2 = 10000\n",
            "102^2 = 10404\n",
            "104^2 = 10816\n",
            "106^2 = 11236\n",
            "108^2 = 11664\n",
            "110^2 = 12100\n",
            "112^2 = 12544\n",
            "114^2 = 12996\n",
            "116^2 = 13456\n",
            "118^2 = 13924\n",
            "120^2 = 14400\n",
            "122^2 = 14884\n",
            "124^2 = 15376\n",
            "126^2 = 15876\n",
            "128^2 = 16384\n",
            "130^2 = 16900\n",
            "132^2 = 17424\n",
            "134^2 = 17956\n",
            "136^2 = 18496\n",
            "138^2 = 19044\n",
            "140^2 = 19600\n",
            "142^2 = 20164\n",
            "144^2 = 20736\n",
            "146^2 = 21316\n",
            "148^2 = 21904\n",
            "150^2 = 22500\n",
            "152^2 = 23104\n",
            "154^2 = 23716\n",
            "156^2 = 24336\n",
            "158^2 = 24964\n",
            "160^2 = 25600\n",
            "162^2 = 26244\n",
            "164^2 = 26896\n",
            "166^2 = 27556\n",
            "168^2 = 28224\n",
            "170^2 = 28900\n",
            "172^2 = 29584\n",
            "174^2 = 30276\n",
            "176^2 = 30976\n",
            "178^2 = 31684\n",
            "180^2 = 32400\n",
            "182^2 = 33124\n",
            "184^2 = 33856\n",
            "186^2 = 34596\n",
            "188^2 = 35344\n",
            "190^2 = 36100\n",
            "192^2 = 36864\n",
            "194^2 = 37636\n",
            "196^2 = 38416\n",
            "198^2 = 39204\n",
            "200^2 = 40000\n"
          ]
        }
      ]
    },
    {
      "cell_type": "code",
      "source": [
        "# Exercise 4: Word Counter\n",
        "\n",
        "from collections import Counter\n",
        "import re\n",
        "\n",
        "def word_counter(text):\n",
        "    \"\"\"Count the number of occurrences of each word in a given text.\"\"\"\n",
        "    # Normalize the text by converting it to lowercase and removing punctuation\n",
        "    words = re.findall(r'\\b\\w+\\b', text.lower())\n",
        "    word_counts = Counter(words)\n",
        "\n",
        "    for word, count in word_counts.items():\n",
        "        print(f\"'{word}': {count}\")\n",
        "\n",
        "# Test the function\n",
        "input_text = \"This is a sample text. This text will be used to demonstrate the word counter.\"\n",
        "word_counter(input_text)\n"
      ],
      "metadata": {
        "colab": {
          "base_uri": "https://localhost:8080/"
        },
        "id": "Q1Ma3xzNdbi5",
        "outputId": "8dcc07d2-9d9c-495c-f521-6442ec298180"
      },
      "execution_count": 5,
      "outputs": [
        {
          "output_type": "stream",
          "name": "stdout",
          "text": [
            "'this': 2\n",
            "'is': 1\n",
            "'a': 1\n",
            "'sample': 1\n",
            "'text': 2\n",
            "'will': 1\n",
            "'be': 1\n",
            "'used': 1\n",
            "'to': 1\n",
            "'demonstrate': 1\n",
            "'the': 1\n",
            "'word': 1\n",
            "'counter': 1\n"
          ]
        }
      ]
    },
    {
      "cell_type": "code",
      "source": [
        "# Exercise 5: Check for Palindrome\n",
        "\n",
        "def is_palindrome(s):\n",
        "    \"\"\"Check if a string is a palindrome.\"\"\"\n",
        "    normalized_str = ''.join(c.lower() for c in s if c.isalnum())  # Remove non-alphanumeric chars\n",
        "    return normalized_str == normalized_str[::-1]\n",
        "\n",
        "# Test the function\n",
        "test_string = \"A man, a plan, a canal, Panama\"\n",
        "print(f\"Is '{test_string}' a palindrome? {is_palindrome(test_string)}\")\n"
      ],
      "metadata": {
        "colab": {
          "base_uri": "https://localhost:8080/"
        },
        "id": "PRHMuRMPd4TJ",
        "outputId": "712de752-dfdc-48ed-b72d-4f4ffbb33d53"
      },
      "execution_count": 6,
      "outputs": [
        {
          "output_type": "stream",
          "name": "stdout",
          "text": [
            "Is 'A man, a plan, a canal, Panama' a palindrome? True\n"
          ]
        }
      ]
    }
  ]
}