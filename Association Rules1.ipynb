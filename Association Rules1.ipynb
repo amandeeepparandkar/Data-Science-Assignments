{
  "nbformat": 4,
  "nbformat_minor": 0,
  "metadata": {
    "colab": {
      "provenance": []
    },
    "kernelspec": {
      "name": "python3",
      "display_name": "Python 3"
    },
    "language_info": {
      "name": "python"
    }
  },
  "cells": [
    {
      "cell_type": "code",
      "execution_count": 16,
      "metadata": {
        "id": "kXuf_lBnTkcR"
      },
      "outputs": [],
      "source": [
        "import pandas as pd\n",
        "from mlxtend.preprocessing import TransactionEncoder\n",
        "\n",
        "# Load the dataset\n",
        "url = '/content/Online retail.xlsx'  # Replace with your file path or URL\n",
        "df = pd.read_excel(url, header=None, engine='openpyxl')\n",
        "\n",
        "# Preprocess the data\n",
        "# Split the items in each transaction into a list\n",
        "df[0] = df[0].apply(lambda x: x.split(','))\n",
        "\n",
        "# Convert the list of transactions into the format needed for association rule mining\n",
        "transactions = df[0].tolist()\n",
        "\n",
        "# Apply Transaction Encoder\n",
        "te = TransactionEncoder()\n",
        "te_ary = te.fit(transactions).transform(transactions)\n",
        "df_encoded = pd.DataFrame(te_ary, columns=te.columns_)\n"
      ]
    },
    {
      "cell_type": "markdown",
      "source": [
        "# Handle missing values by dropping them\n",
        "df.dropna()\n",
        "\n",
        "\n",
        "# Remove duplicates\n",
        "df.drop_duplicates(inplace=True)\n",
        "\n",
        "# Convert 'InvoiceNo' to string type for consistency\n",
        "df['InvoiceNo'] = df['InvoiceNo'].astype(str)\n",
        "\n",
        "# Filter out cancellations (InvoiceNo starting with 'C')\n",
        "df = df[~df['InvoiceNo'].str.startswith('C')]\n",
        "\n",
        "# Display the cleaned data\n",
        "df.head()\n"
      ],
      "metadata": {
        "id": "fpk1s1kvT3SA"
      }
    },
    {
      "cell_type": "code",
      "source": [
        "from mlxtend.frequent_patterns import apriori, association_rules\n",
        "\n",
        "# Apply Apriori algorithm\n",
        "frequent_itemsets = apriori(df_encoded, min_support=0.01, use_colnames=True)\n",
        "\n",
        "# Generate association rules\n",
        "rules = association_rules(frequent_itemsets, metric=\"lift\", min_threshold=1)\n",
        "\n",
        "# Display the rules\n",
        "rules_sorted = rules.sort_values(by='lift', ascending=False)\n",
        "print(rules_sorted.head(10))  # Display top 10 rules\n"
      ],
      "metadata": {
        "id": "fhCQ5jmBV3uM",
        "outputId": "0919d30f-5086-4376-d638-96fbb6be5ed6",
        "colab": {
          "base_uri": "https://localhost:8080/"
        }
      },
      "execution_count": 17,
      "outputs": [
        {
          "output_type": "stream",
          "name": "stdout",
          "text": [
            "                    antecedents                 consequents  \\\n",
            "214             (herb & pepper)               (ground beef)   \n",
            "215               (ground beef)             (herb & pepper)   \n",
            "383  (spaghetti, mineral water)               (ground beef)   \n",
            "386               (ground beef)  (spaghetti, mineral water)   \n",
            "398                 (olive oil)  (spaghetti, mineral water)   \n",
            "395  (spaghetti, mineral water)                 (olive oil)   \n",
            "193                  (tomatoes)         (frozen vegetables)   \n",
            "192         (frozen vegetables)                  (tomatoes)   \n",
            "189                    (shrimp)         (frozen vegetables)   \n",
            "188         (frozen vegetables)                    (shrimp)   \n",
            "\n",
            "     antecedent support  consequent support   support  confidence      lift  \\\n",
            "214            0.049460            0.098254  0.015998    0.323450  3.291994   \n",
            "215            0.098254            0.049460  0.015998    0.162822  3.291994   \n",
            "383            0.059725            0.098254  0.017064    0.285714  2.907928   \n",
            "386            0.098254            0.059725  0.017064    0.173677  2.907928   \n",
            "398            0.065858            0.059725  0.010265    0.155870  2.609786   \n",
            "395            0.059725            0.065858  0.010265    0.171875  2.609786   \n",
            "193            0.068391            0.095321  0.016131    0.235867  2.474464   \n",
            "192            0.095321            0.068391  0.016131    0.169231  2.474464   \n",
            "189            0.071457            0.095321  0.016664    0.233209  2.446574   \n",
            "188            0.095321            0.071457  0.016664    0.174825  2.446574   \n",
            "\n",
            "     leverage  conviction  zhangs_metric  \n",
            "214  0.011138    1.332860       0.732460  \n",
            "215  0.011138    1.135410       0.772094  \n",
            "383  0.011196    1.262445       0.697788  \n",
            "386  0.011196    1.137902       0.727602  \n",
            "398  0.006332    1.113898       0.660314  \n",
            "395  0.006332    1.128021       0.656007  \n",
            "193  0.009612    1.183930       0.639616  \n",
            "192  0.009612    1.121381       0.658656  \n",
            "189  0.009853    1.179825       0.636767  \n",
            "188  0.009853    1.125268       0.653563  \n"
          ]
        }
      ]
    },
    {
      "cell_type": "code",
      "source": [
        "# Analyze the generated rules\n",
        "print(\"Top 10 Association Rules:\")\n",
        "print(rules_sorted.head(10))\n",
        "\n",
        "# Interpretation\n",
        "# Example: Analyze some of the generated rules\n",
        "for idx, row in rules_sorted.head(10).iterrows():\n",
        "    print(f\"Rule: {', '.join(list(row['antecedents']))} -> {', '.join(list(row['consequents']))}\")\n",
        "    print(f\"Support: {row['support']:.2f}, Confidence: {row['confidence']:.2f}, Lift: {row['lift']:.2f}\")\n",
        "    print(\"-\" * 50)\n"
      ],
      "metadata": {
        "colab": {
          "base_uri": "https://localhost:8080/"
        },
        "id": "iPZIBF5pX9wv",
        "outputId": "3a398ed1-fc65-498b-bb2f-c4f49ee3f39b"
      },
      "execution_count": 18,
      "outputs": [
        {
          "output_type": "stream",
          "name": "stdout",
          "text": [
            "Top 10 Association Rules:\n",
            "                    antecedents                 consequents  \\\n",
            "214             (herb & pepper)               (ground beef)   \n",
            "215               (ground beef)             (herb & pepper)   \n",
            "383  (spaghetti, mineral water)               (ground beef)   \n",
            "386               (ground beef)  (spaghetti, mineral water)   \n",
            "398                 (olive oil)  (spaghetti, mineral water)   \n",
            "395  (spaghetti, mineral water)                 (olive oil)   \n",
            "193                  (tomatoes)         (frozen vegetables)   \n",
            "192         (frozen vegetables)                  (tomatoes)   \n",
            "189                    (shrimp)         (frozen vegetables)   \n",
            "188         (frozen vegetables)                    (shrimp)   \n",
            "\n",
            "     antecedent support  consequent support   support  confidence      lift  \\\n",
            "214            0.049460            0.098254  0.015998    0.323450  3.291994   \n",
            "215            0.098254            0.049460  0.015998    0.162822  3.291994   \n",
            "383            0.059725            0.098254  0.017064    0.285714  2.907928   \n",
            "386            0.098254            0.059725  0.017064    0.173677  2.907928   \n",
            "398            0.065858            0.059725  0.010265    0.155870  2.609786   \n",
            "395            0.059725            0.065858  0.010265    0.171875  2.609786   \n",
            "193            0.068391            0.095321  0.016131    0.235867  2.474464   \n",
            "192            0.095321            0.068391  0.016131    0.169231  2.474464   \n",
            "189            0.071457            0.095321  0.016664    0.233209  2.446574   \n",
            "188            0.095321            0.071457  0.016664    0.174825  2.446574   \n",
            "\n",
            "     leverage  conviction  zhangs_metric  \n",
            "214  0.011138    1.332860       0.732460  \n",
            "215  0.011138    1.135410       0.772094  \n",
            "383  0.011196    1.262445       0.697788  \n",
            "386  0.011196    1.137902       0.727602  \n",
            "398  0.006332    1.113898       0.660314  \n",
            "395  0.006332    1.128021       0.656007  \n",
            "193  0.009612    1.183930       0.639616  \n",
            "192  0.009612    1.121381       0.658656  \n",
            "189  0.009853    1.179825       0.636767  \n",
            "188  0.009853    1.125268       0.653563  \n",
            "Rule: herb & pepper -> ground beef\n",
            "Support: 0.02, Confidence: 0.32, Lift: 3.29\n",
            "--------------------------------------------------\n",
            "Rule: ground beef -> herb & pepper\n",
            "Support: 0.02, Confidence: 0.16, Lift: 3.29\n",
            "--------------------------------------------------\n",
            "Rule: spaghetti, mineral water -> ground beef\n",
            "Support: 0.02, Confidence: 0.29, Lift: 2.91\n",
            "--------------------------------------------------\n",
            "Rule: ground beef -> spaghetti, mineral water\n",
            "Support: 0.02, Confidence: 0.17, Lift: 2.91\n",
            "--------------------------------------------------\n",
            "Rule: olive oil -> spaghetti, mineral water\n",
            "Support: 0.01, Confidence: 0.16, Lift: 2.61\n",
            "--------------------------------------------------\n",
            "Rule: spaghetti, mineral water -> olive oil\n",
            "Support: 0.01, Confidence: 0.17, Lift: 2.61\n",
            "--------------------------------------------------\n",
            "Rule: tomatoes -> frozen vegetables\n",
            "Support: 0.02, Confidence: 0.24, Lift: 2.47\n",
            "--------------------------------------------------\n",
            "Rule: frozen vegetables -> tomatoes\n",
            "Support: 0.02, Confidence: 0.17, Lift: 2.47\n",
            "--------------------------------------------------\n",
            "Rule: shrimp -> frozen vegetables\n",
            "Support: 0.02, Confidence: 0.23, Lift: 2.45\n",
            "--------------------------------------------------\n",
            "Rule: frozen vegetables -> shrimp\n",
            "Support: 0.02, Confidence: 0.17, Lift: 2.45\n",
            "--------------------------------------------------\n"
          ]
        },
        {
          "output_type": "stream",
          "name": "stderr",
          "text": [
            "/usr/local/lib/python3.10/dist-packages/ipykernel/ipkernel.py:283: DeprecationWarning: `should_run_async` will not call `transform_cell` automatically in the future. Please pass the result to `transformed_cell` argument and any exception that happen during thetransform in `preprocessing_exc_tuple` in IPython 7.17 and above.\n",
            "  and should_run_async(code)\n"
          ]
        }
      ]
    },
    {
      "cell_type": "code",
      "source": [
        "# Analyze the generated rules\n",
        "print(\"Top 10 Association Rules:\")\n",
        "print(rules_sorted.head(10))\n",
        "\n",
        "# Interpretation\n",
        "# Example: Analyze some of the generated rules\n",
        "for idx, row in rules_sorted.head(10).iterrows():\n",
        "    print(f\"Rule: {', '.join(list(row['antecedents']))} -> {', '.join(list(row['consequents']))}\")\n",
        "    print(f\"Support: {row['support']:.2f}, Confidence: {row['confidence']:.2f}, Lift: {row['lift']:.2f}\")\n",
        "    print(\"-\" * 50)\n"
      ],
      "metadata": {
        "colab": {
          "base_uri": "https://localhost:8080/"
        },
        "id": "7tMWpVvvYELM",
        "outputId": "925df550-80ed-4530-fb70-1365d3ce97df"
      },
      "execution_count": 19,
      "outputs": [
        {
          "output_type": "stream",
          "name": "stdout",
          "text": [
            "Top 10 Association Rules:\n",
            "                    antecedents                 consequents  \\\n",
            "214             (herb & pepper)               (ground beef)   \n",
            "215               (ground beef)             (herb & pepper)   \n",
            "383  (spaghetti, mineral water)               (ground beef)   \n",
            "386               (ground beef)  (spaghetti, mineral water)   \n",
            "398                 (olive oil)  (spaghetti, mineral water)   \n",
            "395  (spaghetti, mineral water)                 (olive oil)   \n",
            "193                  (tomatoes)         (frozen vegetables)   \n",
            "192         (frozen vegetables)                  (tomatoes)   \n",
            "189                    (shrimp)         (frozen vegetables)   \n",
            "188         (frozen vegetables)                    (shrimp)   \n",
            "\n",
            "     antecedent support  consequent support   support  confidence      lift  \\\n",
            "214            0.049460            0.098254  0.015998    0.323450  3.291994   \n",
            "215            0.098254            0.049460  0.015998    0.162822  3.291994   \n",
            "383            0.059725            0.098254  0.017064    0.285714  2.907928   \n",
            "386            0.098254            0.059725  0.017064    0.173677  2.907928   \n",
            "398            0.065858            0.059725  0.010265    0.155870  2.609786   \n",
            "395            0.059725            0.065858  0.010265    0.171875  2.609786   \n",
            "193            0.068391            0.095321  0.016131    0.235867  2.474464   \n",
            "192            0.095321            0.068391  0.016131    0.169231  2.474464   \n",
            "189            0.071457            0.095321  0.016664    0.233209  2.446574   \n",
            "188            0.095321            0.071457  0.016664    0.174825  2.446574   \n",
            "\n",
            "     leverage  conviction  zhangs_metric  \n",
            "214  0.011138    1.332860       0.732460  \n",
            "215  0.011138    1.135410       0.772094  \n",
            "383  0.011196    1.262445       0.697788  \n",
            "386  0.011196    1.137902       0.727602  \n",
            "398  0.006332    1.113898       0.660314  \n",
            "395  0.006332    1.128021       0.656007  \n",
            "193  0.009612    1.183930       0.639616  \n",
            "192  0.009612    1.121381       0.658656  \n",
            "189  0.009853    1.179825       0.636767  \n",
            "188  0.009853    1.125268       0.653563  \n",
            "Rule: herb & pepper -> ground beef\n",
            "Support: 0.02, Confidence: 0.32, Lift: 3.29\n",
            "--------------------------------------------------\n",
            "Rule: ground beef -> herb & pepper\n",
            "Support: 0.02, Confidence: 0.16, Lift: 3.29\n",
            "--------------------------------------------------\n",
            "Rule: spaghetti, mineral water -> ground beef\n",
            "Support: 0.02, Confidence: 0.29, Lift: 2.91\n",
            "--------------------------------------------------\n",
            "Rule: ground beef -> spaghetti, mineral water\n",
            "Support: 0.02, Confidence: 0.17, Lift: 2.91\n",
            "--------------------------------------------------\n",
            "Rule: olive oil -> spaghetti, mineral water\n",
            "Support: 0.01, Confidence: 0.16, Lift: 2.61\n",
            "--------------------------------------------------\n",
            "Rule: spaghetti, mineral water -> olive oil\n",
            "Support: 0.01, Confidence: 0.17, Lift: 2.61\n",
            "--------------------------------------------------\n",
            "Rule: tomatoes -> frozen vegetables\n",
            "Support: 0.02, Confidence: 0.24, Lift: 2.47\n",
            "--------------------------------------------------\n",
            "Rule: frozen vegetables -> tomatoes\n",
            "Support: 0.02, Confidence: 0.17, Lift: 2.47\n",
            "--------------------------------------------------\n",
            "Rule: shrimp -> frozen vegetables\n",
            "Support: 0.02, Confidence: 0.23, Lift: 2.45\n",
            "--------------------------------------------------\n",
            "Rule: frozen vegetables -> shrimp\n",
            "Support: 0.02, Confidence: 0.17, Lift: 2.45\n",
            "--------------------------------------------------\n"
          ]
        },
        {
          "output_type": "stream",
          "name": "stderr",
          "text": [
            "/usr/local/lib/python3.10/dist-packages/ipykernel/ipkernel.py:283: DeprecationWarning: `should_run_async` will not call `transform_cell` automatically in the future. Please pass the result to `transformed_cell` argument and any exception that happen during thetransform in `preprocessing_exc_tuple` in IPython 7.17 and above.\n",
            "  and should_run_async(code)\n"
          ]
        }
      ]
    }
  ]
}