{
  "nbformat": 4,
  "nbformat_minor": 0,
  "metadata": {
    "colab": {
      "provenance": []
    },
    "kernelspec": {
      "name": "python3",
      "display_name": "Python 3"
    },
    "language_info": {
      "name": "python"
    }
  },
  "cells": [
    {
      "cell_type": "code",
      "execution_count": 4,
      "metadata": {
        "colab": {
          "base_uri": "https://localhost:8080/"
        },
        "id": "W9v6LGNtiwVM",
        "outputId": "3dda980e-3960-429f-ea97-1da906b26aff"
      },
      "outputs": [
        {
          "output_type": "stream",
          "name": "stdout",
          "text": [
            "                                                Data       Labels\n",
            "0  Path: cantaloupe.srv.cs.cmu.edu!magnesium.club...  alt.atheism\n",
            "1  Newsgroups: alt.atheism\\nPath: cantaloupe.srv....  alt.atheism\n",
            "2  Path: cantaloupe.srv.cs.cmu.edu!das-news.harva...  alt.atheism\n",
            "3  Path: cantaloupe.srv.cs.cmu.edu!magnesium.club...  alt.atheism\n",
            "4  Xref: cantaloupe.srv.cs.cmu.edu alt.atheism:53...  alt.atheism\n",
            "Data      0\n",
            "Labels    0\n",
            "dtype: int64\n",
            "Labels\n",
            "alt.atheism                 100\n",
            "comp.graphics               100\n",
            "talk.politics.misc          100\n",
            "talk.politics.mideast       100\n",
            "talk.politics.guns          100\n",
            "soc.religion.christian      100\n",
            "sci.space                   100\n",
            "sci.med                     100\n",
            "sci.electronics             100\n",
            "sci.crypt                   100\n",
            "rec.sport.hockey            100\n",
            "rec.sport.baseball          100\n",
            "rec.motorcycles             100\n",
            "rec.autos                   100\n",
            "misc.forsale                100\n",
            "comp.windows.x              100\n",
            "comp.sys.mac.hardware       100\n",
            "comp.sys.ibm.pc.hardware    100\n",
            "comp.os.ms-windows.misc     100\n",
            "talk.religion.misc          100\n",
            "Name: count, dtype: int64\n"
          ]
        }
      ],
      "source": [
        "import pandas as pd\n",
        "\n",
        "# Load the dataset\n",
        "file_path = '/content/blogs.csv'\n",
        "data = pd.read_csv(file_path)\n",
        "\n",
        "# Display the first few rows of the dataset\n",
        "print(data.head())\n",
        "\n",
        "# Check for any missing values\n",
        "print(data.isnull().sum())\n",
        "\n",
        "# Check the distribution of categories\n",
        "print(data['Labels'].value_counts())\n"
      ]
    },
    {
      "cell_type": "code",
      "source": [
        "import re\n",
        "import string\n",
        "from sklearn.feature_extraction.text import TfidfVectorizer\n",
        "from nltk.corpus import stopwords\n",
        "\n",
        "\n",
        "# Download the stopwords corpus\n",
        "#nltk.download('stopwords')\n",
        "\n",
        "# Function to clean the text\n",
        "def clean_text(text):\n",
        "    text = text.lower()  # Convert to lowercase\n",
        "    text = re.sub(f'[{re.escape(string.punctuation)}]', '', text)  # Remove punctuation\n",
        "    text = re.sub(r'\\d+', '', text)  # Remove digits\n",
        "    return text\n",
        "\n",
        "# Apply text cleaning\n",
        "data['Data'] = data['Data'].apply(clean_text)\n",
        "\n",
        "# Tokenization and stopwords removal\n",
        "#stop_words = set(stopwords.words('english'))  # Now you can use stopwords\n",
        "#data['Data'] = data['Data'].apply(lambda x: ' '.join([word for word in x.split() if word not in stop_words]))\n",
        "\n",
        "# TF-IDF Vectorization\n",
        "tfidf = TfidfVectorizer(max_features=5000)\n",
        "X = tfidf.fit_transform(data['Data']).toarray()\n",
        "y = data['Labels']"
      ],
      "metadata": {
        "id": "RzsYYE-ij88f"
      },
      "execution_count": 13,
      "outputs": []
    },
    {
      "cell_type": "code",
      "source": [
        "from sklearn.model_selection import train_test_split\n",
        "from sklearn.naive_bayes import MultinomialNB\n",
        "from sklearn.metrics import accuracy_score, precision_score, recall_score, f1_score, classification_report\n",
        "\n",
        "# Split the data into training and test sets\n",
        "X_train, X_test, y_train, y_test = train_test_split(X, y, test_size=0.2, random_state=42)\n",
        "\n",
        "# Initialize and train the Naive Bayes classifier\n",
        "nb = MultinomialNB()\n",
        "nb.fit(X_train, y_train)\n",
        "\n",
        "# Make predictions\n",
        "y_pred = nb.predict(X_test)\n",
        "\n",
        "# Evaluate the model\n",
        "print(f'Accuracy: {accuracy_score(y_test, y_pred)}')\n",
        "print(f'Precision: {precision_score(y_test, y_pred, average=\"weighted\")}')\n",
        "print(f'Recall: {recall_score(y_test, y_pred, average=\"weighted\")}')\n",
        "print(f'F1-Score: {f1_score(y_test, y_pred, average=\"weighted\")}')\n",
        "print(classification_report(y_test, y_pred))\n"
      ],
      "metadata": {
        "colab": {
          "base_uri": "https://localhost:8080/"
        },
        "id": "PKFl1AdQnPtT",
        "outputId": "41a20607-c348-4918-cdd3-41c457391360"
      },
      "execution_count": 14,
      "outputs": [
        {
          "output_type": "stream",
          "name": "stdout",
          "text": [
            "Accuracy: 0.795\n",
            "Precision: 0.8261387605353611\n",
            "Recall: 0.795\n",
            "F1-Score: 0.7893284079184193\n",
            "                          precision    recall  f1-score   support\n",
            "\n",
            "             alt.atheism       0.50      0.89      0.64        18\n",
            "           comp.graphics       0.88      0.78      0.82        18\n",
            " comp.os.ms-windows.misc       0.95      0.91      0.93        22\n",
            "comp.sys.ibm.pc.hardware       0.80      0.64      0.71        25\n",
            "   comp.sys.mac.hardware       0.81      0.62      0.70        21\n",
            "          comp.windows.x       1.00      0.80      0.89        25\n",
            "            misc.forsale       1.00      0.67      0.80        18\n",
            "               rec.autos       0.89      0.94      0.92        18\n",
            "         rec.motorcycles       0.94      0.94      0.94        16\n",
            "      rec.sport.baseball       0.80      0.89      0.84        18\n",
            "        rec.sport.hockey       0.88      1.00      0.94        15\n",
            "               sci.crypt       0.83      1.00      0.90        19\n",
            "         sci.electronics       0.43      0.75      0.55        16\n",
            "                 sci.med       0.84      0.94      0.89        17\n",
            "               sci.space       1.00      0.90      0.95        21\n",
            "  soc.religion.christian       0.85      1.00      0.92        23\n",
            "      talk.politics.guns       0.86      0.64      0.73        28\n",
            "   talk.politics.mideast       0.94      0.85      0.89        20\n",
            "      talk.politics.misc       0.53      0.89      0.67        18\n",
            "      talk.religion.misc       0.67      0.17      0.27        24\n",
            "\n",
            "                accuracy                           0.80       400\n",
            "               macro avg       0.82      0.81      0.80       400\n",
            "            weighted avg       0.83      0.80      0.79       400\n",
            "\n"
          ]
        }
      ]
    },
    {
      "cell_type": "code",
      "source": [
        "from textblob import TextBlob\n",
        "\n",
        "# Function to determine sentiment\n",
        "def get_sentiment(text):\n",
        "    analysis = TextBlob(text)\n",
        "    if analysis.sentiment.polarity > 0:\n",
        "        return 'Positive'\n",
        "    elif analysis.sentiment.polarity < 0:\n",
        "        return 'Negative'\n",
        "    else:\n",
        "        return 'Neutral'\n",
        "\n",
        "# Apply sentiment analysis\n",
        "data['Sentiment'] = data['Data'].apply(get_sentiment)\n",
        "\n",
        "# Check the distribution of sentiments\n",
        "print(data['Sentiment'].value_counts())\n",
        "\n",
        "# Examine the distribution of sentiments across categories\n",
        "sentiment_by_category = pd.crosstab(data['Labels'], data['Sentiment'])\n",
        "print(sentiment_by_category)\n"
      ],
      "metadata": {
        "colab": {
          "base_uri": "https://localhost:8080/"
        },
        "id": "0IKGHTHBnVg6",
        "outputId": "06ac0ba8-4a51-49a7-f1b6-798bf3b691d8"
      },
      "execution_count": 15,
      "outputs": [
        {
          "output_type": "stream",
          "name": "stdout",
          "text": [
            "Sentiment\n",
            "Positive    1510\n",
            "Negative     489\n",
            "Neutral        1\n",
            "Name: count, dtype: int64\n",
            "Sentiment                 Negative  Neutral  Positive\n",
            "Labels                                               \n",
            "alt.atheism                     31        0        69\n",
            "comp.graphics                   25        0        75\n",
            "comp.os.ms-windows.misc         22        0        78\n",
            "comp.sys.ibm.pc.hardware        20        0        80\n",
            "comp.sys.mac.hardware           23        0        77\n",
            "comp.windows.x                  20        1        79\n",
            "misc.forsale                    18        0        82\n",
            "rec.autos                       22        0        78\n",
            "rec.motorcycles                 27        0        73\n",
            "rec.sport.baseball              34        0        66\n",
            "rec.sport.hockey                37        0        63\n",
            "sci.crypt                       21        0        79\n",
            "sci.electronics                 20        0        80\n",
            "sci.med                         30        0        70\n",
            "sci.space                       27        0        73\n",
            "soc.religion.christian          13        0        87\n",
            "talk.politics.guns              33        0        67\n",
            "talk.politics.mideast           27        0        73\n",
            "talk.politics.misc              25        0        75\n",
            "talk.religion.misc              14        0        86\n"
          ]
        }
      ]
    },
    {
      "cell_type": "code",
      "source": [],
      "metadata": {
        "id": "oDv8MDkNnaJZ"
      },
      "execution_count": null,
      "outputs": []
    }
  ]
}